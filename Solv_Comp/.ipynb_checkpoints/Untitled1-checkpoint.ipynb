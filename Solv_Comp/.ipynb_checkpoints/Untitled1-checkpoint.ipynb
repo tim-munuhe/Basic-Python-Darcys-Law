{
 "cells": [
  {
   "cell_type": "code",
   "execution_count": 1,
   "metadata": {},
   "outputs": [],
   "source": [
    "import numpy as np\n",
    "from numpy import linalg as LA\n",
    "import csv # Write solutions to file"
   ]
  },
  {
   "cell_type": "code",
   "execution_count": 20,
   "metadata": {},
   "outputs": [],
   "source": [
    "def gauss_seidel_cust(A,N,b,x0):\n",
    "    # Gauss-Seidel: x0 is the initial solution\n",
    "    # No inverse matrix to return, just iteration states\n",
    "    ## Initialize\n",
    "    x = x0\n",
    "\n",
    "    dif = np.matmul(A,x)-b\n",
    "    res = np.array([LA.norm(dif)],dtype=float)\n",
    "    tol = 1E-8\n",
    "    iter = 0\n",
    "    max_iter = 3\n",
    "\n",
    "    ## Iteration Loop\n",
    "    while ((res[iter] > tol) & (iter < max_iter)):\n",
    "        iter += 1\n",
    "        x_k = x\n",
    "        for i in range(0,N): # Loop through equations internally\n",
    "            x_sum = b[i] # where terms will be summed\n",
    "            for j in range(0,N): if (i != j): x_sum -= A[i,j]*x_k[j]\n",
    "            x[i] = x_sum/A[i,i]\n",
    "        dif = np.matmul(A,x)-b\n",
    "        res_iter = np.array(LA.norm(dif))\n",
    "        res = np.append(res,res_iter) # check this code\n",
    "        print('k = {}, res = {}'.format(iter,res_iter))\n",
    "\n",
    "    if (res[iter] < tol): print('>> Gauss-Seidel Converged! tol = ',tol,', res = ',res[iter],', k = ',iter)\n",
    "    if (res[iter] > tol): print('> Gauss-Seidel Divergence! tol = ',tol,', res = ',res[iter],', k = ',iter)\n",
    "    print_sol('Gauss-Seidel_Sol',A,A,b,np.matmul(A,x),N)\n",
    "\n",
    "    return x, res\n"
   ]
  },
  {
   "cell_type": "code",
   "execution_count": 10,
   "metadata": {},
   "outputs": [],
   "source": [
    "def print_mat3(i, A, A_inv, P, b, N):\n",
    "    # Print the A, inverse A, permutation P matrices, and b vector \n",
    "    # in formatted form (CSV file). N is length of b-vector and dimensional length of every matrix\n",
    "    \n",
    "    fname = 'mat_{}.csv'.format(i) # file name\n",
    "    # Create writer object\n",
    "    with open(fname, 'w', newline = '') as f:\n",
    "        mat_writer = csv.writer(f, delimiter = ',')\n",
    "        for j in range(0,N):\n",
    "            mat_writer.writerow(np.concatenate((A[j,0:],np.append(A_inv[j,0:],b[j]),P[j,0:])))\n",
    "     \n",
    "    return None\n",
    "\n",
    "def print_mat1(i, A, N):\n",
    "    # Print the NxN-sized A matrix in formatted form (CSV file). \n",
    "\n",
    "    fname = 'mat_{}.csv'.format(i) # file name\n",
    "    # Create writer object\n",
    "    with open(fname, 'w', newline = '') as f:\n",
    "        mat_writer = csv.writer(f, delimiter = ',')\n",
    "        for j in range(0,N):\n",
    "            mat_writer.writerow(A[j,0:])\n",
    "     \n",
    "    return None\n",
    "\n",
    "def print_sol(i, A, A_inv, x, b, N):\n",
    "    # Print the A and inverse A matrices and x and b vectors in formatted\n",
    "    # form (CSV file). N is length of b-vector and dimensional length of every matrix\n",
    "    \n",
    "    fname = 'mat_{}.csv'.format(i) # file name\n",
    "    # Create writer object\n",
    "    with open(fname, 'w', newline = '') as f:\n",
    "        mat_writer = csv.writer(f, delimiter = ',')\n",
    "        for j in range(0,N):\n",
    "            mat_writer.writerow(np.concatenate((A[j,0:],A_inv[j,0:],[x[j],b[j]])))\n",
    "     \n",
    "    return None"
   ]
  },
  {
   "cell_type": "code",
   "execution_count": 8,
   "metadata": {},
   "outputs": [],
   "source": [
    "N = 7\n",
    "rng = np.random.default_rng(1235)\n",
    "A = rng.integers(low=-10, high=10, size=(N,N)).astype(np.float)\n",
    "x = rng.integers(low=-10, high=10, size=N).astype(np.float)\n",
    "b = np.matmul(A,x)"
   ]
  },
  {
   "cell_type": "code",
   "execution_count": null,
   "metadata": {},
   "outputs": [],
   "source": []
  },
  {
   "cell_type": "code",
   "execution_count": 4,
   "metadata": {},
   "outputs": [
    {
     "data": {
      "text/plain": [
       "array([  1., 104.,  65.,  16.,  31.,  35., -11.])"
      ]
     },
     "execution_count": 4,
     "metadata": {},
     "output_type": "execute_result"
    }
   ],
   "source": [
    "b"
   ]
  },
  {
   "cell_type": "code",
   "execution_count": 5,
   "metadata": {},
   "outputs": [
    {
     "data": {
      "text/plain": [
       "(7, 7)"
      ]
     },
     "execution_count": 5,
     "metadata": {},
     "output_type": "execute_result"
    }
   ],
   "source": [
    "A.shape"
   ]
  },
  {
   "cell_type": "code",
   "execution_count": 14,
   "metadata": {},
   "outputs": [
    {
     "data": {
      "text/plain": [
       "(7,)"
      ]
     },
     "execution_count": 14,
     "metadata": {},
     "output_type": "execute_result"
    }
   ],
   "source": [
    "x.shape"
   ]
  },
  {
   "cell_type": "code",
   "execution_count": 25,
   "metadata": {},
   "outputs": [
    {
     "name": "stdout",
     "output_type": "stream",
     "text": [
      "k = 1, res = 1005.5425774886313\n",
      "k = 2, res = 14478.608993269061\n",
      "k = 3, res = 369810.5898410009\n",
      "> Gauss-Seidel Divergence! tol =  1e-08 , res =  369810.5898410009 , k =  3\n"
     ]
    }
   ],
   "source": [
    "[x_gs, res_gs] = gauss_seidel_cust(A, N, b, np.zeros(N,dtype=float)) # Gauss-Seidel"
   ]
  },
  {
   "cell_type": "code",
   "execution_count": 24,
   "metadata": {},
   "outputs": [
    {
     "data": {
      "text/plain": [
       "(7,)"
      ]
     },
     "execution_count": 24,
     "metadata": {},
     "output_type": "execute_result"
    }
   ],
   "source": [
    "np.zeros(N,dtype=float).shape"
   ]
  },
  {
   "cell_type": "code",
   "execution_count": null,
   "metadata": {},
   "outputs": [],
   "source": []
  }
 ],
 "metadata": {
  "kernelspec": {
   "display_name": "Python 3",
   "language": "python",
   "name": "python3"
  },
  "language_info": {
   "codemirror_mode": {
    "name": "ipython",
    "version": 3
   },
   "file_extension": ".py",
   "mimetype": "text/x-python",
   "name": "python",
   "nbconvert_exporter": "python",
   "pygments_lexer": "ipython3",
   "version": "3.8.5"
  }
 },
 "nbformat": 4,
 "nbformat_minor": 4
}
