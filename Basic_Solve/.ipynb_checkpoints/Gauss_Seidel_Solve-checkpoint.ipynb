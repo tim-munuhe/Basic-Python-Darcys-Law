{
 "cells": [
  {
   "cell_type": "code",
   "execution_count": 50,
   "metadata": {},
   "outputs": [],
   "source": [
    "# Import packages\n",
    "import csv # Read in case parameters and write out solutions\n",
    "import numpy as np\n",
    "import matplotlib.pyplot as plt\n",
    "import pandas as pd\n",
    "import copy"
   ]
  },
  {
   "cell_type": "code",
   "execution_count": 51,
   "metadata": {},
   "outputs": [],
   "source": [
    "class case_param(): \n",
    "    def __init__(self,param): \n",
    "        self.name = param['case_name'] # now the name is given inside the case, not as the case's actual name \n",
    "        self.dim = 1 # dimensions \n",
    "        self.x0 = 0.0 # inlet position \n",
    "        self.xL = self.x0 + float(param['length']) # outlet \n",
    "        self.dx = float(param['dx'])\n",
    "        fluid_name = param['fluid'] \n",
    "        mu = float(param['mu']) \n",
    "        u0 = 0.0 \n",
    "        p0 = float(param['p0']) # inlet pressure \n",
    "        pL = float(param['pL']) # outlet \n",
    "        self.fl = {'Name': fluid_name, 'mu': mu, 'u0': u0, 'p0': p0, 'pL': pL} \n",
    "        pm_name = param['porous_medium']  \n",
    "        K = float(param['K']) \n",
    "        eps = float(param['eps']) \n",
    "        self.pm = {'Name': pm_name, 'K':K, 'eps':eps} \n",
    "        self.fl['u0'] = -K/mu*(pL-p0)/(self.xL-self.x0)"
   ]
  },
  {
   "cell_type": "code",
   "execution_count": 52,
   "metadata": {},
   "outputs": [],
   "source": [
    "class mesh():\n",
    "    def __init__(self,case): # Take in the case info for certain params\n",
    "        dim = 1 # case.dim\n",
    "        if (dim == 1):\n",
    "            self.Nx = int((case.xL - case.x0)/case.dx + 2.0)\n",
    "        \n",
    "            # Face locations\n",
    "            self.xc = np.ones(self.Nx)*case.x0# Initialize mesh\n",
    "            self.xc[self.Nx-1] = case.xL # Outward boundary\n",
    "            for i in range(2,self.Nx-1): \n",
    "                self.xc[i] = (i-1)*case.dx # Cell Face Locations\n",
    "\n",
    "            # Node locations\n",
    "            self.x = np.copy(self.xc) # Initialize mesh\n",
    "            for i in range(0,self.Nx-1):\n",
    "                self.x[i] = (self.xc[i+1] + self.xc[i])/2 # Cell Node Locations: halfway between faces\n",
    "            self.x[self.Nx-1] = np.copy(self.xc[self.Nx-1]) # Outward boundary\n",
    "    def output(self,fname): # output mesh\n",
    "        with open(fname,'w', newline='') as csvfile:\n",
    "            mesh_write = csv.writer(csvfile,dialect = 'excel', delimiter = '\\t') # writer object\n",
    "            mesh_write.writerow(['i', 'x', 'xc']) # header row\n",
    "            for i in range(0,self.Nx):\n",
    "                mesh_write.writerow([i+1,self.x[i],self.xc[i]]) # actual data rows"
   ]
  },
  {
   "cell_type": "code",
   "execution_count": 53,
   "metadata": {},
   "outputs": [],
   "source": [
    "class fluid():\n",
    "    def __init__(self,mesh,fluid_prop):\n",
    "        self.name = fluid_prop['Name']\n",
    "        # Initialize variables\n",
    "        self.p = np.ones(mesh.Nx)*fluid_prop['p0'] # Pressure\n",
    "        self.p[mesh.Nx-1] = fluid_prop['pL'] # Pressure boundary at x = L\n",
    "        self.u = np.ones(mesh.Nx)*fluid_prop['u0'] # Velocity: Staggered mesh so velocity at faces\n",
    "        self.mu = np.ones(mesh.Nx)*fluid_prop['mu'] # Viscosity\n",
    "    def p_lin(self,mesh): # linear pressure-x relation\n",
    "        N = mesh.Nx\n",
    "        L = mesh.x[N-1]\n",
    "        L0 = mesh.x[0]\n",
    "        for i in range(1,N):\n",
    "            self.p[i] = (self.p[N-1]-self.p[0])/(L-L0)*mesh.x[i]+self.p[0]\n",
    "    def mu_lin(self,mesh): # linear viscosity-x relation\n",
    "        N = mesh.Nx\n",
    "        L = mesh.x[N-1]\n",
    "        L0 = mesh.x[0]\n",
    "        for i in range(1,N):\n",
    "            self.mu[i] = (0.005-0.001)/(L-L0)*mesh.x[i]+0.001\n",
    "    def darcyv(self,msh,pm):\n",
    "        # inlet\n",
    "        self.u[0] = -np.mean([pm.K[0]/self.mu[0],pm.K[1]/self.mu[1]]) \\\n",
    "        *(self.p[1]-self.p[0])/(msh.x[1]-msh.x[0]) \n",
    "        self.u[1] = self.u[0] # same location\n",
    "        for i in range(2,msh.Nx-1): # interior faces\n",
    "            Ai = pm.K[i-1]/self.mu[i-1]/(msh.xc[i]-msh.x[i-1])\n",
    "            Ai1 = pm.K[i]/self.mu[i]/(msh.x[i]-msh.xc[i])\n",
    "            self.u[i] = -Ai*Ai1/(Ai+Ai1)*(self.p[i]-self.p[i-1])\n",
    "        # outlet\n",
    "        self.u[msh.Nx-1] = -np.mean([pm.K[msh.Nx-2]/self.mu[msh.Nx-2], \\\n",
    "                                     pm.K[msh.Nx-1]/self.mu[msh.Nx-1]])* \\\n",
    "        (self.p[msh.Nx-1]-self.p[msh.Nx-2])/(msh.x[msh.Nx-1]-msh.x[msh.Nx-2]) \n",
    "        \n",
    "    def gauss_seidel(self,msh,pm): # need the mesh info and porous medium permeability\n",
    "\n",
    "        # Solver Parameters\n",
    "        tol = 1E-7 # tolerance to determining stopping point of scheme\n",
    "        res = np.array([1.0],dtype=float) # residual (initially greater than the tolerance\n",
    "        max_iter = 100 # max iterations (so it doesn't go forever)\n",
    "        k = 0 # iteration counter\n",
    "\n",
    "        # self.p[2:N-1] = zeros(N-2,1) # initial guess for cell centers\n",
    "        p_samp = np.zeros([1,4],dtype=float)\n",
    "        p_samp[0][:] = np.copy([self.p[1],self.p[3],self.p[msh.Nx-4],self.p[msh.Nx-2]])\n",
    "        \n",
    "        ## Iteration Loop\n",
    "        while ((res[k]>tol)and(k<max_iter)):\n",
    "            p_prev = np.copy(self.p)# previous iteration (copy to avoid using same mem loc)\n",
    "            i = 1 # first cell center\n",
    "            fw = -np.mean([pm.K[i-1]/self.mu[i-1],pm.K[i]/self.mu[i]])/(msh.x[i]-msh.xc[i]) # f_i-1/2 -> f_i\n",
    "            fe = -pm.K[i]/self.mu[i]/(msh.xc[i+1]-msh.x[i]) # f_i -> f_i+1/2\n",
    "            fee = -pm.K[i+1]/self.mu[i+1]/(msh.x[i+1]-msh.xc[i+1]) #f_i+1/2 -> f_i+1\n",
    "            Aw = fw\n",
    "            Ae = fe*fee/(fe+fee)\n",
    "            self.p[i] = (Aw*self.p[i-1] + Ae*self.p[i+1])/(Aw + Ae)\n",
    "            for i in range(2,msh.Nx-2):\n",
    "                fww = -pm.K[i-1]/self.mu[i-1]/(msh.xc[i]-msh.x[i-1]) # f_i-1->i-1/2\n",
    "                fw = -pm.K[i]/self.mu[i]/(msh.x[i]-msh.xc[i]) # f_i-1/2 -> f_i\n",
    "                fe = -pm.K[i]/self.mu[i]/(msh.xc[i+1]-msh.x[i]) # f_i -> f_i+1/2\n",
    "                fee = -pm.K[i+1]/self.mu[i+1]/(msh.x[i+1]-msh.xc[i+1]) # f_i+1/2 -> f_i+1\n",
    "                Aw = fw*fww/(fw+fww) # \"west\" factor (i-1 -> i)\n",
    "                Ae = fe*fee/(fe+fee) # \"east\" factor (i -> i+1)\n",
    "                self.p[i] = (Aw*self.p[i-1] + Ae*self.p[i+1])/(Aw + Ae)\n",
    "            i = msh.Nx-2 # last cell center\n",
    "            fww = -pm.K[i-1]/self.mu[i-1]/(msh.xc[i]-msh.x[i-1]) # f_i-1->i-1/2\n",
    "            fw = -pm.K[i]/self.mu[i]/(msh.x[i]-msh.xc[i]) # f_i-1/2 -> f_i\n",
    "            fe = -np.mean([pm.K[i]/self.mu[i],pm.K[i+1]/self.mu[i+1]]) \\\n",
    "                          /(msh.xc[i+1]-msh.x[i]) # f_i -> f_i+1/2\n",
    "            Aw = fw*fww/(fw+fww) \n",
    "            Ae = fe \n",
    "            self.p[i] = (Aw*self.p[i-1] + Ae*self.p[i+1])/(Aw + Ae)\n",
    "            p_samp = np.append(p_samp,[[self.p[1],self.p[3],self.p[msh.Nx-4],self.p[msh.Nx-2]]],axis=0)\n",
    "            res = np.append(res,[sum(abs(self.p-p_prev))]) # L2 norm of p_diff\n",
    "            k += 1 # increase iteration count\n",
    "            # print(k,res[k-1])\n",
    "            \n",
    "        # Iterations are complete. Now for output\n",
    "        print('Gauss-Seidel Complete. Iteration, Residual:',k,res[k])\n",
    "        \n",
    "        # I suggest using the pandas library for output to file. Compare the code below to the output\n",
    "        # function coded from scratch in the mesh class\n",
    "        res_vec = res[:,np.newaxis]\n",
    "        df = pd.DataFrame(np.append(res_vec,p_samp,axis=1),columns=['res','x1','x3','x_N-4','x_N-2'])\n",
    "        df.to_csv('GS_Out.csv',sep='\\t')       \n",
    "        return [k,res[k]]\n"
   ]
  },
  {
   "cell_type": "code",
   "execution_count": 54,
   "metadata": {},
   "outputs": [],
   "source": [
    "class por_med():\n",
    "    def __init__(self,mesh,pm_prop):\n",
    "        self.name = pm_prop\n",
    "        # Initialize Variables\n",
    "        self.K = np.ones(mesh.Nx)*pm_prop['K'] # Permeability\n",
    "        self.eps = np.ones(mesh.Nx)*pm_prop['eps'] # Porosity"
   ]
  },
  {
   "cell_type": "code",
   "execution_count": 55,
   "metadata": {},
   "outputs": [],
   "source": [
    "def plot_out(data): # plotting function, takes in data object of specific form and prints plots\n",
    "    N_param = data.Np\n",
    "    N = data.Nx\n",
    "    fig, ax = plt.subplots(N_param,1,figsize=(4,5))    \n",
    "    for i in range(0,N_param):\n",
    "        ax[i].plot(data.x, data.var[0:,i], color = 'black',linewidth=0.5)\n",
    "        ax[i].set_xlabel(data.varnamex,fontsize=12) \n",
    "        ax[i].set_ylabel(data.varname[i],fontsize=12)\n",
    "    fig.tight_layout()\n",
    "    plt.show()\n",
    "\n",
    "def output(fname,fheader,Nvar,N,data): # output data files\n",
    "    # fname: str variable - name.fmt (replace fmt with desired file format)\n",
    "    # fheader: str array with each string being a variable name\n",
    "    # Nvar: number of variables\n",
    "    # N: length of data vectors (number of rows)\n",
    "    # data: array with shape\n",
    "    with open(fname,'w', newline='') as csvfile:\n",
    "        data_write = csv.writer(csvfile,dialect = 'excel', delimiter = '\\t') # writer object\n",
    "        data_write.writerow(fheader) # header row\n",
    "        for i in range(0,self.Nx):\n",
    "            mesh_write.writerow([i+1,self.x[i],self.xc[i]]) # actual data rows"
   ]
  },
  {
   "cell_type": "code",
   "execution_count": 56,
   "metadata": {},
   "outputs": [
    {
     "name": "stdout",
     "output_type": "stream",
     "text": [
      "0.0\n",
      "0.02\n"
     ]
    }
   ],
   "source": [
    "with open('casefile.csv',newline='') as casefile: \n",
    "    casereader = csv.DictReader(casefile) \n",
    "    i = 0 \n",
    "    caselist = {} \n",
    "    for row in casereader:    \n",
    "        caselist[i] = row \n",
    "        i += 1         \n",
    "\n",
    "base = case_param(caselist[0])\n",
    "print(base.x0)\n",
    "print(base.dx)"
   ]
  },
  {
   "cell_type": "code",
   "execution_count": 57,
   "metadata": {},
   "outputs": [
    {
     "name": "stdout",
     "output_type": "stream",
     "text": [
      "Node Locations w/ inlet: [0.   0.01 0.03 0.05 0.07]\n",
      "Nx: 52\n",
      "Outlet Location: 1.0\n",
      "Face Locations: [0.   0.   0.02 0.04 0.06]\n"
     ]
    }
   ],
   "source": [
    "## Initialize and check mesh object creation ##\n",
    "base_mesh = mesh(base) # create base mesh from case parameters\n",
    "print('Node Locations w/ inlet:', base_mesh.x[0:5]) # check inlet location and spacing\n",
    "print('Nx:', base_mesh.Nx) # check number of elements\n",
    "print('Outlet Location:', base_mesh.x[base_mesh.Nx-1])\n",
    "print('Face Locations:', base_mesh.xc[0:5]) #"
   ]
  },
  {
   "cell_type": "code",
   "execution_count": 58,
   "metadata": {},
   "outputs": [],
   "source": [
    "## Create fluid and porous medium objects for this specific case ##\n",
    "fl1 = fluid(base_mesh,base.fl) # fluid object, determined by mesh and case's fluid properties\n",
    "pm1 = por_med(base_mesh,base.pm) # porous medium object, determined by mesh and case's porous medium properties"
   ]
  },
  {
   "cell_type": "code",
   "execution_count": 59,
   "metadata": {},
   "outputs": [
    {
     "name": "stdout",
     "output_type": "stream",
     "text": [
      "Original P: [0. 0. 0. 0.] [0. 0. 0. 0.]\n",
      "Linear P: [ 0. -1. -3. -5.] [-93. -95. -97. -99.]\n"
     ]
    }
   ],
   "source": [
    "# Linear P\n",
    "print('Original P:',fl1.p[0:4],fl1.p[base_mesh.Nx-5:base_mesh.Nx-1])\n",
    "fl1.p_lin(base_mesh)\n",
    "print('Linear P:',fl1.p[0:4],fl1.p[base_mesh.Nx-5:base_mesh.Nx-1])"
   ]
  },
  {
   "cell_type": "code",
   "execution_count": 60,
   "metadata": {},
   "outputs": [
    {
     "name": "stdout",
     "output_type": "stream",
     "text": [
      "Original u: [1.e-04 1.e-04 1.e-04 1.e-04]\n",
      "Darcy u: [1.e-04 1.e-04 1.e-04 1.e-04]\n"
     ]
    }
   ],
   "source": [
    "# Darcy Velocity\n",
    "print('Original u:',fl1.u[0:4]) # velocity from initialization\n",
    "fl1.u = np.zeros(base_mesh.Nx) # zero out velocity \n",
    "fl1.darcyv(base_mesh,pm1) # use darcyv method\n",
    "print('Darcy u:',fl1.u[0:4]) # print to confirm that darcyv did what it was supposed to (got same solution as initialization)"
   ]
  },
  {
   "cell_type": "code",
   "execution_count": 61,
   "metadata": {},
   "outputs": [],
   "source": [
    "# Data/solution object to be plotted #\n",
    "data_sol = type('sol', (object,), {})() # empty object (metaprogramming)"
   ]
  },
  {
   "cell_type": "code",
   "execution_count": 62,
   "metadata": {},
   "outputs": [],
   "source": [
    "# Data at nodes: x p, K, mu\n",
    "data_sol.Np = 3 # p, K, mu\n",
    "data_sol.Nx = base_mesh.Nx\n",
    "data_sol.varnamex = 'x (m)'\n",
    "data_sol.varname = ['p (Pa)', 'K ($m^2$)', '\\u03BC (Pa*s)']\n",
    "data_sol.x = base_mesh.x\n",
    "data_sol.var = np.zeros((data_sol.Nx,data_sol.Np))\n",
    "data_sol.var = np.concatenate((fl1.p.reshape(data_sol.Nx,1)\n",
    "                               ,pm1.K.reshape(data_sol.Nx,1)\n",
    "                               ,fl1.mu.reshape(data_sol.Nx,1))\n",
    "                              ,axis=1)"
   ]
  },
  {
   "cell_type": "code",
   "execution_count": 63,
   "metadata": {},
   "outputs": [
    {
     "data": {
      "image/png": "[encoded data removed]",
      "text/plain": [
       "<Figure size 288x360 with 3 Axes>"
      ]
     },
     "metadata": {
      "needs_background": "light"
     },
     "output_type": "display_data"
    }
   ],
   "source": [
    "plot_out(data_sol) # call the plotting output"
   ]
  },
  {
   "cell_type": "code",
   "execution_count": 64,
   "metadata": {},
   "outputs": [
    {
     "data": {
      "image/png": "[encoded data removed]",
      "text/plain": [
       "<Figure size 432x288 with 1 Axes>"
      ]
     },
     "metadata": {
      "needs_background": "light"
     },
     "output_type": "display_data"
    }
   ],
   "source": [
    "# Face only has one variable right now, so can directly plot\n",
    "fig2, ax2 = plt.subplots()\n",
    "ax2.plot(base_mesh.xc,fl1.u,color='black',linewidth=0.5)\n",
    "ax2.set_xlabel('x (m)',fontsize=12) \n",
    "ax2.set_ylabel('u (m/s)',fontsize=12)\n",
    "plt.xlim(min(base_mesh.xc),max(base_mesh.xc))\n",
    "plt.ylim(min(fl1.u)-1E-6,max(fl1.u)+1E-6)\n",
    "plt.show()"
   ]
  },
  {
   "cell_type": "code",
   "execution_count": 65,
   "metadata": {},
   "outputs": [
    {
     "name": "stdout",
     "output_type": "stream",
     "text": [
      "Original P: [0. 0. 0. 0.] [0. 0. 0. 0.]\n",
      "Gauss-Seidel Complete. Iteration, Residual: 100 5.65338582708514\n",
      "Gauss-Seidel P: [ 0.         -0.00138227 -0.00462155 -0.00872932] [-80.27557742 -85.87430752 -91.51599336 -97.17199779]\n",
      "Gauss-Seidel Complete. Iteration, Residual: 100 3.7583134653374475\n",
      "Gauss-Seidel Complete. Iteration, Residual: 100 2.5634702135882383\n"
     ]
    }
   ],
   "source": [
    "## Pressure calculation using Gauss-Seidel\n",
    "fl_gs = fluid(base_mesh,base.fl)\n",
    "print('Original P:',fl_gs.p[0:4],\n",
    "      fl_gs.p[base_mesh.Nx-5:base_mesh.Nx-1])\n",
    "[itera, res] = fl_gs.gauss_seidel(base_mesh,pm1)\n",
    "print('Gauss-Seidel P:',fl_gs.p[0:4],\n",
    "      fl_gs.p[base_mesh.Nx-5:base_mesh.Nx-1])\n",
    "fl_gs2 = copy.deepcopy(fl_gs) # another 100 iterations\n",
    "[itera, res] = fl_gs2.gauss_seidel(base_mesh,pm1)\n",
    "fl_gs3 = copy.deepcopy(fl_gs2) # another 100 iterations\n",
    "[itera, res] = fl_gs3.gauss_seidel(base_mesh,pm1)"
   ]
  },
  {
   "cell_type": "code",
   "execution_count": 66,
   "metadata": {},
   "outputs": [
    {
     "data": {
      "image/png": "[encoded data removed]",
      "text/plain": [
       "<Figure size 432x288 with 1 Axes>"
      ]
     },
     "metadata": {
      "needs_background": "light"
     },
     "output_type": "display_data"
    }
   ],
   "source": [
    "# Plotting with Comparison\n",
    "comp = type('sol', (object,), {})() # 'comp' for comparison\n",
    "comp.Np = 4 # true p, dp_100iter, dp_200_iter, dp_300iter\n",
    "comp.Nx = base_mesh.Nx\n",
    "comp.varnamex = 'x (m)'\n",
    "comp.varname = ['True Sol','GS after 100 iterations',\n",
    "                    'GS after 200 iterations', 'GS after 300 iterations']\n",
    "comp.x = base_mesh.x\n",
    "comp.var = np.zeros((comp.Nx,comp.Np))\n",
    "comp.var = np.concatenate((fl1.p.reshape(comp.Nx,1)\n",
    "                               ,fl_gs.p.reshape(comp.Nx,1)\n",
    "                               ,fl_gs2.p.reshape(comp.Nx,1)\n",
    "                               ,fl_gs3.p.reshape(comp.Nx,1))\n",
    "                              ,axis=1)\n",
    "fig1, ax1 = plt.subplots()\n",
    "ax1.plot(comp.x,comp.var[:,0],'k',linewidth=0.5,label=comp.varname[0])\n",
    "ax1.plot(comp.x,comp.var[:,1],'r-',linewidth=0.5,label=comp.varname[1])\n",
    "ax1.plot(comp.x,comp.var[:,2],'b:',linewidth=0.5,label=comp.varname[2])\n",
    "ax1.plot(comp.x,comp.var[:,3],'g-.',linewidth=0.5,label=comp.varname[3])\n",
    "ax1.set_xlabel(comp.varnamex,fontsize=12) \n",
    "ax1.set_ylabel('p (Pa)',fontsize=12)\n",
    "ax1.legend()\n",
    "fig1.tight_layout()\n",
    "plt.show()"
   ]
  },
  {
   "cell_type": "code",
   "execution_count": 67,
   "metadata": {},
   "outputs": [
    {
     "name": "stdout",
     "output_type": "stream",
     "text": [
      "Gauss-Seidel Complete. Iteration, Residual: 100 1.7346754689575967\n",
      "Gauss-Seidel Complete. Iteration, Residual: 100 1.170213355095012\n",
      "Gauss-Seidel Complete. Iteration, Residual: 100 0.7886626690301054\n",
      "Gauss-Seidel Complete. Iteration, Residual: 100 0.5313600983521762\n",
      "Gauss-Seidel Complete. Iteration, Residual: 100 0.3579706262053608\n",
      "Gauss-Seidel Complete. Iteration, Residual: 100 0.24115368085189048\n",
      "Gauss-Seidel Complete. Iteration, Residual: 100 0.16245637437907423\n",
      "Gauss-Seidel Complete. Iteration, Residual: 100 0.10944061071299471\n",
      "Gauss-Seidel Complete. Iteration, Residual: 100 0.07372587247410722\n",
      "Gauss-Seidel Complete. Iteration, Residual: 100 0.049666234002162746\n",
      "Gauss-Seidel Complete. Iteration, Residual: 100 0.03345819504829006\n",
      "Gauss-Seidel Complete. Iteration, Residual: 100 0.02253947402453349\n",
      "Gauss-Seidel Complete. Iteration, Residual: 100 0.015183959719024531\n",
      "Gauss-Seidel Complete. Iteration, Residual: 100 0.010228838171966625\n",
      "Gauss-Seidel Complete. Iteration, Residual: 100 0.006890767113112539\n",
      "Gauss-Seidel Complete. Iteration, Residual: 100 0.004642039555389776\n",
      "Gauss-Seidel Complete. Iteration, Residual: 100 0.00312715999239499\n",
      "Gauss-Seidel Complete. Iteration, Residual: 100 0.002106645042576183\n",
      "Gauss-Seidel Complete. Iteration, Residual: 100 0.0014191641446062997\n",
      "Gauss-Seidel Complete. Iteration, Residual: 100 0.0009560352260717941\n",
      "Gauss-Seidel Complete. Iteration, Residual: 100 0.0006440434370338366\n",
      "Gauss-Seidel Complete. Iteration, Residual: 100 0.0004338668047790817\n",
      "Gauss-Seidel Complete. Iteration, Residual: 100 0.0002922790505689443\n",
      "Gauss-Seidel Complete. Iteration, Residual: 100 0.00019689693350566362\n",
      "Gauss-Seidel Complete. Iteration, Residual: 100 0.00013264174197524792\n",
      "Gauss-Seidel Complete. Iteration, Residual: 100 8.93555394532175e-05\n",
      "Gauss-Seidel Complete. Iteration, Residual: 100 6.019532253687121e-05\n",
      "Gauss-Seidel Complete. Iteration, Residual: 100 4.055122787816057e-05\n",
      "Gauss-Seidel Complete. Iteration, Residual: 100 2.7317772006152374e-05\n",
      "Gauss-Seidel Complete. Iteration, Residual: 100 1.840291153076823e-05\n",
      "Gauss-Seidel Complete. Iteration, Residual: 100 1.2397319795298678e-05\n",
      "Gauss-Seidel Complete. Iteration, Residual: 100 8.351588097310625e-06\n",
      "Gauss-Seidel Complete. Iteration, Residual: 100 5.626137426606448e-06\n",
      "Gauss-Seidel Complete. Iteration, Residual: 100 3.790108054513297e-06\n",
      "Gauss-Seidel Complete. Iteration, Residual: 100 2.553247182124352e-06\n",
      "Gauss-Seidel Complete. Iteration, Residual: 100 1.7200224512459172e-06\n",
      "Gauss-Seidel Complete. Iteration, Residual: 100 1.1587116549582888e-06\n",
      "Gauss-Seidel Complete. Iteration, Residual: 100 7.805786592651742e-07\n",
      "Gauss-Seidel Complete. Iteration, Residual: 100 5.258452526746282e-07\n",
      "Gauss-Seidel Complete. Iteration, Residual: 100 3.542412781998294e-07\n",
      "Gauss-Seidel Complete. Iteration, Residual: 100 2.38638344418618e-07\n",
      "Gauss-Seidel Complete. Iteration, Residual: 100 1.6076129993880528e-07\n",
      "Gauss-Seidel Complete. Iteration, Residual: 100 1.0829858543282e-07\n",
      "Gauss-Seidel Complete. Iteration, Residual: 21 9.967714553749119e-08\n",
      "Gauss-Seidel Complete. Iteration, Residual: 1 9.928417421534164e-08\n",
      "Gauss-Seidel Complete. Iteration, Residual: 1 9.889270291552066e-08\n",
      "Gauss-Seidel Complete. Iteration, Residual: 1 9.850288984480926e-08\n",
      "Gauss-Seidel Complete. Iteration, Residual: 1 9.811447720942112e-08\n",
      "Gauss-Seidel Complete. Iteration, Residual: 1 9.772758158277384e-08\n",
      "Gauss-Seidel Complete. Iteration, Residual: 1 9.734250261406174e-08\n"
     ]
    }
   ],
   "source": [
    "## Until Convergence\n",
    "fl_gs_conv = copy.deepcopy(fl_gs3)\n",
    "for i in range(0,50):\n",
    "    [itera, res] = fl_gs_conv.gauss_seidel(base_mesh,pm1)"
   ]
  },
  {
   "cell_type": "code",
   "execution_count": 68,
   "metadata": {},
   "outputs": [
    {
     "data": {
      "image/png": "[encoded data removed]",
      "text/plain": [
       "<Figure size 432x288 with 1 Axes>"
      ]
     },
     "metadata": {
      "needs_background": "light"
     },
     "output_type": "display_data"
    }
   ],
   "source": [
    "# Velocity\n",
    "fl_gs_conv.darcyv(base_mesh,pm1)\n",
    "fig3, ax3 = plt.subplots()\n",
    "ax3.plot(base_mesh.xc,fl_gs_conv.u,color='black',linewidth=0.5)\n",
    "ax3.set_xlabel('x (m)',fontsize=12) \n",
    "ax3.set_ylabel('u (m/s)',fontsize=12)\n",
    "plt.xlim(min(base_mesh.xc),max(base_mesh.xc))\n",
    "plt.ylim(min(fl1.u)-1E-6,max(fl1.u)+1E-6)\n",
    "plt.show()"
   ]
  },
  {
   "cell_type": "code",
   "execution_count": 69,
   "metadata": {},
   "outputs": [
    {
     "name": "stdout",
     "output_type": "stream",
     "text": [
      "Original P: [0. 0. 0. 0.] [0. 0. 0. 0.]\n",
      "Linear P: [ 0. -1. -3. -5.] [-93. -95. -97. -99.]\n",
      "Gauss-Seidel Complete. Iteration, Residual: 100 1.5884833745040403\n",
      "Gauss-Seidel Complete. Iteration, Residual: 100 1.002353041483502\n",
      "Gauss-Seidel Complete. Iteration, Residual: 100 0.6338472261195084\n",
      "Gauss-Seidel Complete. Iteration, Residual: 100 0.40049374184656666\n",
      "Gauss-Seidel Complete. Iteration, Residual: 100 0.2529740027291516\n",
      "Gauss-Seidel Complete. Iteration, Residual: 100 0.1597775646522766\n",
      "Gauss-Seidel Complete. Iteration, Residual: 100 0.1009121836541308\n",
      "Gauss-Seidel Complete. Iteration, Residual: 100 0.06373350241738468\n",
      "Gauss-Seidel Complete. Iteration, Residual: 100 0.04025231667888601\n",
      "Gauss-Seidel Complete. Iteration, Residual: 100 0.025422230427992742\n",
      "Gauss-Seidel Complete. Iteration, Residual: 100 0.01605596169998358\n",
      "Gauss-Seidel Complete. Iteration, Residual: 100 0.010140490604018504\n",
      "Gauss-Seidel Complete. Iteration, Residual: 100 0.006404446494256144\n",
      "Gauss-Seidel Complete. Iteration, Residual: 100 0.004044866885838272\n",
      "Gauss-Seidel Complete. Iteration, Residual: 100 0.0025546232775185973\n",
      "Gauss-Seidel Complete. Iteration, Residual: 100 0.001613427653169075\n",
      "Gauss-Seidel Complete. Iteration, Residual: 100 0.001018995174145998\n",
      "Gauss-Seidel Complete. Iteration, Residual: 100 0.000643568469190503\n",
      "Gauss-Seidel Complete. Iteration, Residual: 100 0.0004064596035399659\n",
      "Gauss-Seidel Complete. Iteration, Residual: 100 0.00025670836475144565\n",
      "Gauss-Seidel Complete. Iteration, Residual: 100 0.00016212972689594318\n",
      "Gauss-Seidel Complete. Iteration, Residual: 100 0.00010239654002941467\n",
      "Gauss-Seidel Complete. Iteration, Residual: 100 6.467075237442943e-05\n",
      "Gauss-Seidel Complete. Iteration, Residual: 100 4.0844214092949915e-05\n",
      "Gauss-Seidel Complete. Iteration, Residual: 100 2.5796047900983332e-05\n",
      "Gauss-Seidel Complete. Iteration, Residual: 100 1.6292052771760268e-05\n",
      "Gauss-Seidel Complete. Iteration, Residual: 100 1.0289598709078973e-05\n",
      "Gauss-Seidel Complete. Iteration, Residual: 100 6.498618942862855e-06\n",
      "Gauss-Seidel Complete. Iteration, Residual: 100 4.104343513555708e-06\n",
      "Gauss-Seidel Complete. Iteration, Residual: 100 2.592187115679767e-06\n",
      "Gauss-Seidel Complete. Iteration, Residual: 100 1.6371517560509474e-06\n",
      "Gauss-Seidel Complete. Iteration, Residual: 100 1.0339787323565552e-06\n",
      "Gauss-Seidel Complete. Iteration, Residual: 100 6.530316628006183e-07\n",
      "Gauss-Seidel Complete. Iteration, Residual: 100 4.12436286567619e-07\n",
      "Gauss-Seidel Complete. Iteration, Residual: 100 2.6048300305614447e-07\n",
      "Gauss-Seidel Complete. Iteration, Residual: 100 1.6451367423897523e-07\n",
      "Gauss-Seidel Complete. Iteration, Residual: 100 1.0390209925770222e-07\n",
      "Gauss-Seidel Complete. Iteration, Residual: 9 9.969258302211514e-08\n",
      "Gauss-Seidel Complete. Iteration, Residual: 1 9.923550614576726e-08\n",
      "Gauss-Seidel Complete. Iteration, Residual: 1 9.878049989087145e-08\n",
      "Gauss-Seidel Complete. Iteration, Residual: 1 9.832761671546564e-08\n",
      "Gauss-Seidel Complete. Iteration, Residual: 1 9.7876743265779e-08\n",
      "Gauss-Seidel Complete. Iteration, Residual: 1 9.742792872469153e-08\n",
      "Gauss-Seidel Complete. Iteration, Residual: 1 9.698137770630666e-08\n",
      "Gauss-Seidel Complete. Iteration, Residual: 1 9.653669530429454e-08\n",
      "Gauss-Seidel Complete. Iteration, Residual: 1 9.609404422183943e-08\n",
      "Gauss-Seidel Complete. Iteration, Residual: 1 9.565352299123475e-08\n",
      "Gauss-Seidel Complete. Iteration, Residual: 1 9.521483002039588e-08\n",
      "Gauss-Seidel Complete. Iteration, Residual: 1 9.477843870842051e-08\n",
      "Gauss-Seidel Complete. Iteration, Residual: 1 9.434390840779017e-08\n",
      "Gauss-Seidel Complete. Iteration, Residual: 1 9.391120880941628e-08\n",
      "Final P: [ 0.         -0.33986983 -1.05987099 -1.83320556] [0.00472 0.0048  0.00488 0.00496]\n"
     ]
    }
   ],
   "source": [
    "fl_gs_mulin = fluid(base_mesh,base.fl)\n",
    "print('Original P:',fl_gs_mulin.p[0:4],\n",
    "      fl_gs_mulin.p[base_mesh.Nx-5:base_mesh.Nx-1])\n",
    "fl_gs_mulin.p_lin(base_mesh)\n",
    "print('Linear P:',fl_gs_mulin.p[0:4],\n",
    "      fl_gs_mulin.p[base_mesh.Nx-5:base_mesh.Nx-1])\n",
    "fl_gs_mulin.mu_lin(base_mesh)\n",
    "for k in range(0,51): [itera, res] = fl_gs_mulin.gauss_seidel(base_mesh,pm1)\n",
    "print('Final P:',fl_gs_mulin.p[0:4],\n",
    "      fl_gs_mulin.mu[base_mesh.Nx-5:base_mesh.Nx-1])"
   ]
  },
  {
   "cell_type": "code",
   "execution_count": 70,
   "metadata": {},
   "outputs": [
    {
     "data": {
      "text/plain": [
       "<matplotlib.legend.Legend at 0x1dffbe15af0>"
      ]
     },
     "execution_count": 70,
     "metadata": {},
     "output_type": "execute_result"
    },
    {
     "data": {
      "image/png": "[encoded data removed]",
      "text/plain": [
       "<Figure size 432x288 with 2 Axes>"
      ]
     },
     "metadata": {
      "needs_background": "light"
     },
     "output_type": "display_data"
    }
   ],
   "source": [
    "fl_gs_mulin.darcyv(base_mesh,pm1) # Check velocity\n",
    "# Plot Comparison\n",
    "fig4, ax4 = plt.subplots(2,1)\n",
    "ax4[0].plot(comp.x,fl_gs_mulin.mu,'k',linewidth=0.5)\n",
    "ax4[0].set_xlabel(comp.varnamex,fontsize=12) \n",
    "ax4[0].set_ylabel('\\u03BC (Pa*s)',fontsize=12)\n",
    "ax4[0].set(title='Pressure w/ Scaled Viscosity')\n",
    "ax4[1].plot(comp.x,fl_gs_mulin.p,'k',linewidth=0.5,label='linear mu')\n",
    "ax4[1].plot(comp.x,fl_gs_conv.p,'r_',linewidth=0.5,label ='constant mu' )\n",
    "ax4[1].set_xlabel(comp.varnamex,fontsize=12) \n",
    "ax4[1].set_ylabel('p (Pa)',fontsize=12)\n",
    "ax4[1].legend()"
   ]
  },
  {
   "cell_type": "code",
   "execution_count": 73,
   "metadata": {},
   "outputs": [
    {
     "data": {
      "image/png": "[encoded data removed]",
      "text/plain": [
       "<Figure size 432x288 with 1 Axes>"
      ]
     },
     "metadata": {
      "needs_background": "light"
     },
     "output_type": "display_data"
    }
   ],
   "source": [
    "# Velocity for linear viscosity\n",
    "fig5, ax5 = plt.subplots()\n",
    "ax5.plot(base_mesh.xc,fl_gs_mulin.u,color='black',linewidth=0.5)\n",
    "ax5.set_xlabel('x (m)',fontsize=12) \n",
    "ax5.set_ylabel('u (m/s)',fontsize=12)\n",
    "plt.xlim(min(base_mesh.xc),max(base_mesh.xc))\n",
    "plt.ylim(min(fl_gs_mulin.u)-1E-6,max(fl_gs_mulin.u)+1E-6)\n",
    "plt.show()"
   ]
  },
  {
   "cell_type": "code",
   "execution_count": null,
   "metadata": {},
   "outputs": [],
   "source": []
  }
 ],
 "metadata": {
  "kernelspec": {
   "display_name": "Python 3",
   "language": "python",
   "name": "python3"
  },
  "language_info": {
   "codemirror_mode": {
    "name": "ipython",
    "version": 3
   },
   "file_extension": ".py",
   "mimetype": "text/x-python",
   "name": "python",
   "nbconvert_exporter": "python",
   "pygments_lexer": "ipython3",
   "version": "3.8.5"
  }
 },
 "nbformat": 4,
 "nbformat_minor": 4
}
