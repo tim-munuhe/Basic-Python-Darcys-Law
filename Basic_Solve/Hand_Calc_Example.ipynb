{
 "cells": [
  {
   "cell_type": "code",
   "execution_count": 278,
   "metadata": {},
   "outputs": [],
   "source": [
    "# Import packages\n",
    "import csv # Read in case parameters and write out solutions\n",
    "import numpy as np\n",
    "import matplotlib.pyplot as plt\n",
    "import pandas as pd"
   ]
  },
  {
   "cell_type": "code",
   "execution_count": 279,
   "metadata": {},
   "outputs": [],
   "source": [
    "def gauss_seidel(N,A,x,b):\n",
    "    # Solve Ax = b iteratively using Gauss seidel\n",
    "    print('N:',N)# N: number of variables\n",
    "    print('A:',A) # coefficient matrix, NxN size (square matrix)\n",
    "    # x: variables, Nx1 size (column vector)\n",
    "\n",
    "    # Solver Parameters\n",
    "    tol = 1E-6 # tolerance to determining stopping point of scheme\n",
    "    res = 1.0 # residual (initially greater than the tolerance\n",
    "    max_iter = 100 # max iterations (so it doesn't go forever)\n",
    "    k = 0 # iteration counter\n",
    "\n",
    "    # self.p[2:N-1] = zeros(N-2,1) # initial guess for cell centers\n",
    "\n",
    "    ## Iteration Loop\n",
    "    while ((res>tol)and(k<max_iter)):\n",
    "        x_prev = np.copy(x)# previous iteration (copy to avoid using same mem loc)\n",
    "        for i in range(0,N):\n",
    "            xi = b[i]\n",
    "            for j in range(0,N):\n",
    "                if i!=j: xi -= A[i][j]*x[j] #;  print('J:',i,j,A[i][j],xi,x[j])\n",
    "            x[i] = xi/A[i][i]\n",
    "            # print('I:',i,xi,b[i],A[i][i])\n",
    "        res = sum(abs(x-x_prev)) # L2 norm of p_diff\n",
    "        k += 1 # increase iteration count\n",
    "        print('Iter, Res, x',k,res,x)\n",
    "        \n",
    "    print('Iteration Complete')\n",
    "    return [x,k,res]"
   ]
  },
  {
   "cell_type": "code",
   "execution_count": 296,
   "metadata": {},
   "outputs": [],
   "source": [
    "def succ_OR(N,A,x,b):\n",
    "    # Solve Ax = b iteratively using successive overrelaxation\n",
    "    # N: number of variables\n",
    "    # A: coefficient matrix, NxN size (square matrix)\n",
    "    # x: variables, Nx1 size (column vector)\n",
    "\n",
    "    # Solver Parameters\n",
    "    tol = 1E-6 # tolerance to determining stopping point of scheme\n",
    "    res = np.array([1.0],dtype=float) # residual (initially greater than the tolerance\n",
    "    max_iter = 100 # max iterations (so it doesn't go forever)\n",
    "    k = 0 # iteration counter\n",
    "    omega = 1.1 # relaxation factor (for Gauss-Seidel, always 1)\n",
    "    \n",
    "    # self.p[2:N-1] = zeros(N-2,1) # initial guess for cell centers\n",
    "\n",
    "    ## Iteration Loop\n",
    "    while ((res[k]>tol)and(k<max_iter)):\n",
    "        x_prev = np.copy(x)# previous iteration (copy to avoid using same mem loc)\n",
    "        for i in range(0,N):\n",
    "            xi = b[i]\n",
    "            for j in range(0,N):\n",
    "                if i!=j: xi -= A[i][j]*x[j] #;  print('J:',i,j,A[i][j],xi,x[j])\n",
    "            x[i] = omega*xi/A[i][i] + (1.0-omega)*x_prev[i]\n",
    "            # print('I:',i,xi,b[i],A[i][i])\n",
    "        res = np.append(res,[sum(abs(x-x_prev))]) # L2 norm of p_diff\n",
    "        k += 1 # increase iteration count\n",
    "        print('Iter, Res, x',k,res[k-1],x)\n",
    "        \n",
    "    print('Iteration Complete')\n",
    "    df = pd.DataFrame(res,columns=['residual'])\n",
    "    df.to_csv('res.csv',sep='\\t')\n",
    "    return [x,k,res[k-1]]"
   ]
  },
  {
   "cell_type": "code",
   "execution_count": 287,
   "metadata": {},
   "outputs": [],
   "source": [
    "N = 4; x0 = np.zeros(N,dtype=float) # initialize\n",
    "A = np.array([[1,1,1,1],[2,-5,3,2],[0,-3,1,-1],[1,0,-2,3]],dtype=float)\n",
    "b = np.array([25,0,6,-8],dtype=float)\n",
    "x0[0] = 491.0/7.0; x0[1] = 71.0/14.0; x0[2] = -29.0/2.0; x0[3] = -250.0/7.0"
   ]
  },
  {
   "cell_type": "code",
   "execution_count": 288,
   "metadata": {},
   "outputs": [
    {
     "name": "stdout",
     "output_type": "stream",
     "text": [
      "N: 4\n",
      "A: [[ 1.  1.  1.  1.]\n",
      " [ 2. -5.  3.  2.]\n",
      " [ 0. -3.  1. -1.]\n",
      " [ 1.  0. -2.  3.]]\n",
      "Iter, Res, x 1 8.881784197001252e-15 [ 70.14285714   5.07142857 -14.5        -35.71428571]\n",
      "Iteration Complete\n"
     ]
    }
   ],
   "source": [
    "[x,k,res] = gauss_seidel(N,A,x0,b)"
   ]
  },
  {
   "cell_type": "code",
   "execution_count": 289,
   "metadata": {
    "scrolled": true
   },
   "outputs": [
    {
     "data": {
      "text/plain": [
       "array([[11.,  4.,  6.,  6.],\n",
       "       [ 4., 13.,  4.,  3.],\n",
       "       [ 6.,  4.,  9.,  4.],\n",
       "       [ 6.,  3.,  4.,  9.]])"
      ]
     },
     "execution_count": 289,
     "metadata": {},
     "output_type": "execute_result"
    }
   ],
   "source": [
    "x0 = np.ones(N,dtype=float)\n",
    "A = np.random.randint(1,4,size=[N,N]).astype(float)\n",
    "A = (A+A.transpose())+(np.eye(N)*7.0)\n",
    "A"
   ]
  },
  {
   "cell_type": "code",
   "execution_count": 290,
   "metadata": {
    "scrolled": true
   },
   "outputs": [
    {
     "name": "stdout",
     "output_type": "stream",
     "text": [
      "N: 4\n",
      "A: [[11.  4.  6.  6.]\n",
      " [ 4. 13.  4.  3.]\n",
      " [ 6.  4.  9.  4.]\n",
      " [ 6.  3.  4.  9.]]\n",
      "Iter, Res, x 1 5.127428127428128 [ 0.81818182 -0.79020979  0.02797203 -1.18337218]\n",
      "Iter, Res, x 2 4.408429790973173 [ 3.19029455 -0.71714998 -0.61551985 -2.50313755]\n",
      "Iter, Res, x 3 2.087807483280397 [ 4.23459494 -0.53591444 -0.80570685 -3.1752221 ]\n",
      "Iter, Res, x 4 0.7988053713287568 [ 4.63902104 -0.44673773 -0.81625411 -3.46987741]\n",
      "Iter, Res, x 5 0.304229402872741 [ 4.77306727 -0.41674003 -0.78799265 -3.58180144]\n",
      "Iter, Res, x 6 0.10074700303670181 [ 4.80779315 -0.41029213 -0.76426496 -3.61764696]\n",
      "Iter, Res, x 7 0.02645964690156727 [ 4.81205819 -0.41063323 -0.75102537 -3.62626088]\n",
      "Iter, Res, x 8 0.010403494740520436 [ 4.80965913 -0.41198095 -0.74499861 -3.62689083]\n",
      "Iter, Res, x 9 0.006661327941350215 [ 4.8072055  -0.412935   -0.74265885 -3.62597695]\n",
      "Iter, Res, x 10 0.003459498045298881 [ 4.80577771 -0.41342651 -0.74189471 -3.62520088]\n",
      "Iter, Res, x 11 0.0014886162694484062 [ 4.80511632 -0.41363722 -0.74170506 -3.624774  ]\n",
      "Iter, Res, x 12 0.0005451681130067554 [ 4.80485666 -0.41371418 -0.74168747 -3.62458306]\n",
      "Iter, Res, x 13 0.0001988948916997746 [ 4.8047709  -0.41373727 -0.7417049  -3.62451044]\n",
      "Iter, Res, x 14 6.515333517026489e-05 [ 4.80474919 -0.41374199 -0.7417206  -3.62448742]\n",
      "Iter, Res, x 15 1.6670339219926333e-05 [ 4.80474692 -0.41374177 -0.74172942 -3.62448206]\n",
      "Iter, Res, x 16 6.982599843829984e-06 [ 4.80474872 -0.41374085 -0.74173341 -3.62448179]\n",
      "Iter, Res, x 17 4.5445173685876306e-06 [ 4.80475042 -0.4137402  -0.74173495 -3.62448246]\n",
      "Iter, Res, x 18 2.32414060091779e-06 [ 4.80475139 -0.41373988 -0.74173544 -3.62448299]\n",
      "Iter, Res, x 19 9.885409573695547e-07 [ 4.80475183 -0.41373974 -0.74173556 -3.62448328]\n",
      "Iteration Complete\n"
     ]
    }
   ],
   "source": [
    "[x,k,res] = gauss_seidel(N,A,x0,b)"
   ]
  },
  {
   "cell_type": "code",
   "execution_count": 297,
   "metadata": {
    "scrolled": true
   },
   "outputs": [
    {
     "name": "stdout",
     "output_type": "stream",
     "text": [
      "Iter, Res, x 1 1.0 [ 0.8        -0.96307692  0.02861538 -1.32530598]\n",
      "Iter, Res, x 2 5.459767521367522 [ 3.58324513 -0.78974435 -0.86321669 -2.7613703 ]\n",
      "Iter, Res, x 3 5.284474095336241 [ 4.63232542 -0.49576067 -0.9850085  -3.43534077]\n",
      "Iter, Res, x 4 2.138826237599747 [ 4.88728129 -0.39914514 -0.87753454 -3.64287987]\n",
      "Iter, Res, x 5 0.6665844640461172 [ 4.88317858 -0.39111088 -0.78773758 -3.66596394]\n",
      "Iter, Res, x 6 0.1250179982840932 [ 4.84034741 -0.40195062 -0.74872278 -3.64734534]\n",
      "Iter, Res, x 7 0.11130430783628431 [ 4.81438638 -0.41001111 -0.73874791 -3.6320902 ]\n",
      "Iter, Res, x 8 0.05925151448010563 [ 4.80506867 -0.41329994 -0.73876261 -3.62556964]\n",
      "Iter, Res, x 9 0.019141793648568772 [ 4.80341246 -0.41406074 -0.74036247 -3.62394603]\n",
      "Iter, Res, x 10 0.005640479970885903 [ 4.80386815 -0.41400955 -0.74135545 -3.62397588]\n",
      "Iter, Res, x 11 0.0015296999439569081 [ 4.8044158  -0.41385636 -0.74171806 -3.62425339]\n",
      "Iter, Res, x 12 0.0013409590336283528 [ 4.80468383 -0.41376923 -0.74178528 -3.62442129]\n",
      "Iter, Res, x 13 0.000590293792614327 [ 4.80476325 -0.41373945 -0.74176927 -3.62448148]\n",
      "Iter, Res, x 14 0.00018539436899284167 [ 4.8047699  -0.41373482 -0.74174859 -3.62449215]\n",
      "Iter, Res, x 15 4.263952229821566e-05 [ 4.80476138 -0.41373669 -0.74173828 -3.62448919]\n",
      "Iter, Res, x 16 2.366733821390632e-05 [ 4.80475502 -0.41373859 -0.74173516 -3.62448564]\n",
      "Iter, Res, x 17 1.4928077564146935e-05 [ 4.80475242 -0.41373947 -0.74173487 -3.62448391]\n",
      "Iter, Res, x 18 5.512677430041801e-06 [ 4.80475181 -0.41373972 -0.74173518 -3.6244834 ]\n",
      "Iter, Res, x 19 1.6763666357277884e-06 [ 4.80475185 -0.41373973 -0.74173542 -3.62448336]\n",
      "Iteration Complete\n"
     ]
    }
   ],
   "source": [
    "x0 = np.ones(N,dtype=float)\n",
    "[x,k,res] = succ_OR(N,A,x0,b)"
   ]
  },
  {
   "cell_type": "code",
   "execution_count": 315,
   "metadata": {},
   "outputs": [],
   "source": [
    "s = np.array([[2,3,4,4]])\n",
    "s = np.append(s,[[2,4,3,6]],axis=0)"
   ]
  },
  {
   "cell_type": "code",
   "execution_count": 316,
   "metadata": {},
   "outputs": [
    {
     "data": {
      "text/plain": [
       "array([[2, 3, 4, 4],\n",
       "       [2, 4, 3, 6]])"
      ]
     },
     "execution_count": 316,
     "metadata": {},
     "output_type": "execute_result"
    }
   ],
   "source": [
    "s"
   ]
  },
  {
   "cell_type": "code",
   "execution_count": 331,
   "metadata": {},
   "outputs": [
    {
     "name": "stdout",
     "output_type": "stream",
     "text": [
      "My array shape is: \n",
      " (3, 2)\n",
      "My expanded array shape is: \n",
      " (3, 1, 2, 1)\n",
      "[[1]] (1, 1)\n"
     ]
    }
   ],
   "source": [
    "t = np.array([1])#,[2]])\n",
    "my_array = np.arange(6).reshape(3, 2)\n",
    "print(f\"My array shape is: \\n {my_array.shape}\")\n",
    "\n",
    "my_expanded_array = my_array[:, np.newaxis, :, np.newaxis]\n",
    "print(f\"My expanded array shape is: \\n {my_expanded_array.shape}\")\n",
    "\n",
    "t2 = t[:,np.newaxis]\n",
    "print(t2,t2.shape)"
   ]
  },
  {
   "cell_type": "code",
   "execution_count": 319,
   "metadata": {},
   "outputs": [
    {
     "data": {
      "text/plain": [
       "array([[1, 2, 3, 4, 4],\n",
       "       [2, 2, 4, 3, 6]])"
      ]
     },
     "execution_count": 319,
     "metadata": {},
     "output_type": "execute_result"
    }
   ],
   "source": [
    "np.append(t,s,axis=1)"
   ]
  },
  {
   "cell_type": "code",
   "execution_count": 323,
   "metadata": {},
   "outputs": [
    {
     "data": {
      "text/plain": [
       "(2,)"
      ]
     },
     "execution_count": 323,
     "metadata": {},
     "output_type": "execute_result"
    }
   ],
   "source": [
    "t.shape"
   ]
  },
  {
   "cell_type": "code",
   "execution_count": null,
   "metadata": {},
   "outputs": [],
   "source": []
  }
 ],
 "metadata": {
  "kernelspec": {
   "display_name": "Python 3",
   "language": "python",
   "name": "python3"
  },
  "language_info": {
   "codemirror_mode": {
    "name": "ipython",
    "version": 3
   },
   "file_extension": ".py",
   "mimetype": "text/x-python",
   "name": "python",
   "nbconvert_exporter": "python",
   "pygments_lexer": "ipython3",
   "version": "3.8.5"
  }
 },
 "nbformat": 4,
 "nbformat_minor": 4
}
