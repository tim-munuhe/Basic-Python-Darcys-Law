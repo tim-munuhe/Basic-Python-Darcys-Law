{
 "cells": [
  {
   "cell_type": "code",
   "execution_count": 1,
   "metadata": {},
   "outputs": [],
   "source": [
    "# Import packages\n",
    "import csv # Read in case parameters and write out solutions\n",
    "import numpy as np\n",
    "from scipy import sparse\n",
    "import matplotlib.pyplot as plt"
   ]
  },
  {
   "cell_type": "code",
   "execution_count": 2,
   "metadata": {},
   "outputs": [],
   "source": [
    "class case_param(): # case parameter class\n",
    "    def __init__(self,param): \n",
    "        self.name = param['case_name'] # now the name is given inside the case, not as the case's actual name \n",
    "        self.dim = 1 # dimensions \n",
    "        self.x0 = 0.0 # inlet position \n",
    "        self.xL = self.x0 + float(param['length']) # outlet \n",
    "        self.dx = float(param['dx'])\n",
    "        fluid_name = param['fluid'] \n",
    "        mu = float(param['mu']) \n",
    "        u0 = 0.0 \n",
    "        p0 = float(param['p0']) # inlet pressure \n",
    "        pL = float(param['pL']) # outlet pressure\n",
    "        self.fl = {'Name': fluid_name, 'mu': mu, 'u0': u0, 'p0': p0, 'pL': pL} \n",
    "        pm_name = param['porous_medium']  \n",
    "        K = float(param['K']) \n",
    "        eps = float(param['eps']) \n",
    "        self.pm = {'Name': pm_name, 'K':K, 'eps':eps} \n",
    "        self.fl['u0'] = -K/mu*(pL-p0)/(self.xL-self.x0)"
   ]
  },
  {
   "cell_type": "code",
   "execution_count": 3,
   "metadata": {},
   "outputs": [],
   "source": [
    "class mesh(): # mesh class\n",
    "    def __init__(self,case): # Take in the case info for certain params\n",
    "        dim = 1 # case.dim\n",
    "        if (dim == 1):\n",
    "            self.Nx = int((case.xL - case.x0)/case.dx + 2.0)\n",
    "        \n",
    "            # Face locations\n",
    "            self.xc = np.ones(self.Nx)*case.x0# Initialize mesh\n",
    "            self.xc[self.Nx-1] = case.xL # Outward boundary\n",
    "            for i in range(2,self.Nx-1): \n",
    "                self.xc[i] = (i-1)*case.dx # Cell Face Locations\n",
    "\n",
    "            # Node locations\n",
    "            self.x = np.copy(self.xc) # Initialize mesh\n",
    "            for i in range(0,self.Nx-1):\n",
    "                self.x[i] = (self.xc[i+1] + self.xc[i])/2 # Cell Node Locations: halfway between faces\n",
    "            self.x[self.Nx-1] = np.copy(self.xc[self.Nx-1]) # Outward boundary\n",
    "    \n",
    "    def output(self,fname): # output mesh\n",
    "        with open(fname,'w', newline='') as csvfile:\n",
    "            mesh_write = csv.writer(csvfile,dialect = 'excel', delimiter = '\\t') # writer object\n",
    "            mesh_write.writerow(['i', 'x', 'xc']) # header row\n",
    "            for i in range(0,self.Nx):\n",
    "                mesh_write.writerow([i+1,self.x[i],self.xc[i]]) # actual data rows"
   ]
  },
  {
   "cell_type": "code",
   "execution_count": 4,
   "metadata": {},
   "outputs": [],
   "source": [
    "class fluid(): # fluid class, can create multiple fluid objects for multiphase flow or other studies\n",
    "    def __init__(self,mesh,fluid_prop):\n",
    "        self.name = fluid_prop['Name']\n",
    "        # Initialize variables\n",
    "        self.p = np.ones(mesh.Nx)*fluid_prop['p0'] # Pressure\n",
    "        self.p[mesh.Nx-1] = fluid_prop['pL'] # Pressure boundary at x = L\n",
    "        self.u = np.ones(mesh.Nx)*fluid_prop['u0'] # Velocity: Staggered mesh so velocity at faces\n",
    "        self.mu = np.ones(mesh.Nx)*fluid_prop['mu'] # Viscosity\n",
    "    def p_lin(self,mesh):\n",
    "        N = mesh.Nx\n",
    "        L = mesh.x[N-1]\n",
    "        L0 = mesh.x[0]\n",
    "        for i in range(1,N):\n",
    "            self.p[i] = (self.p[N-1]-self.p[0])/(L-L0)*mesh.x[i]\n",
    "    def darcyv(self,mesh,pm):\n",
    "        N = mesh.Nx\n",
    "        self.u[0] = -pm.K[0]/self.mu[0]*(self.p[1]-self.p[0])/(mesh.x[1]-mesh.x[0]) # inlet\n",
    "        self.u[1] = self.u[0] # same location\n",
    "        for i in range(2,N-1): # interior faces\n",
    "            Ai = pm.K[i-1]/self.mu[i-1]/(mesh.xc[i]-mesh.x[i-1])\n",
    "            Ai1 = pm.K[i]/self.mu[i]/(mesh.x[i]-mesh.xc[i])\n",
    "            self.u[i] = -Ai*Ai1/(Ai+Ai1)*(self.p[i]-self.p[i-1])\n",
    "        self.u[N-1] = -pm.K[N-1]/self.mu[N-1]*(self.p[N-1]-self.p[N-2])/(mesh.x[N-1]-mesh.x[N-2]) # outlet"
   ]
  },
  {
   "cell_type": "code",
   "execution_count": 5,
   "metadata": {},
   "outputs": [],
   "source": [
    "class por_med(): # porous medium class, for parametric studies or composite porous media\n",
    "    def __init__(self,mesh,pm_prop):\n",
    "        self.name = pm_prop\n",
    "        # Initialize Variables\n",
    "        self.K = np.ones(mesh.Nx)*pm_prop['K'] # Permeability\n",
    "        self.eps = np.ones(mesh.Nx)*pm_prop['eps'] # Porosity"
   ]
  },
  {
   "cell_type": "code",
   "execution_count": 23,
   "metadata": {},
   "outputs": [],
   "source": [
    "def plot_out(data): # plotting function, takes in data object of specific form and prints plots\n",
    "    N_param = data.Np\n",
    "    N = data.Nx\n",
    "    fig, ax = plt.subplots(N_param,1,figsize=(4,5))    \n",
    "    for i in range(0,N_param):\n",
    "        ax[i].plot(data.x, data.var[0:,i], color = 'black',linewidth=0.5)\n",
    "        ax[i].set_xlabel(data.varnamex,fontsize=12) \n",
    "        ax[i].set_ylabel(data.varname[i],fontsize=12)\n",
    "    fig.tight_layout()\n",
    "    plt.show()\n",
    "    "
   ]
  },
  {
   "cell_type": "code",
   "execution_count": 7,
   "metadata": {},
   "outputs": [
    {
     "name": "stdout",
     "output_type": "stream",
     "text": [
      "0.0\n",
      "0.02\n"
     ]
    }
   ],
   "source": [
    "with open('casefile.csv',newline='') as casefile: # opening the casefile csv\n",
    "    casereader = csv.DictReader(casefile) \n",
    "    i = 0 \n",
    "    caselist = {} \n",
    "    for row in casereader:    \n",
    "        caselist[i] = row \n",
    "        i += 1         \n",
    "caselist[0]['dx']\n",
    "base = case_param(caselist[0])\n",
    "print(base.x0)\n",
    "print(base.dx)"
   ]
  },
  {
   "cell_type": "code",
   "execution_count": 8,
   "metadata": {},
   "outputs": [
    {
     "name": "stdout",
     "output_type": "stream",
     "text": [
      "Node Locations w/ inlet: [0.   0.01 0.03 0.05 0.07]\n",
      "Nx: 52\n",
      "Outlet Location: 1.0\n",
      "Face Locations: [0.   0.   0.02 0.04 0.06]\n"
     ]
    }
   ],
   "source": [
    "## Initialize and check mesh object creation ##\n",
    "base_mesh = mesh(base) # create base mesh from case parameters\n",
    "print('Node Locations w/ inlet:', base_mesh.x[0:5]) # check inlet location and spacing\n",
    "print('Nx:', base_mesh.Nx) # check number of elements\n",
    "print('Outlet Location:', base_mesh.x[base_mesh.Nx-1])\n",
    "print('Face Locations:', base_mesh.xc[0:5]) #"
   ]
  },
  {
   "cell_type": "code",
   "execution_count": 9,
   "metadata": {},
   "outputs": [],
   "source": [
    "## Create fluid and porous medium objects for this specific case ##\n",
    "fl1 = fluid(base_mesh,base.fl) # fluid object, determined by mesh and case's fluid properties\n",
    "pm1 = por_med(base_mesh,base.pm) # porous medium object, determined by mesh and case's porous medium properties"
   ]
  },
  {
   "cell_type": "code",
   "execution_count": 10,
   "metadata": {},
   "outputs": [
    {
     "name": "stdout",
     "output_type": "stream",
     "text": [
      "[0. 0. 0. 0.]\n",
      "[ 0. -1. -3. -5.]\n"
     ]
    }
   ],
   "source": [
    "## Calculate pressure using simple linear function ##\n",
    "print(fl1.p[0:4])\n",
    "fl1.p_lin(base_mesh)\n",
    "print(fl1.p[0:4])"
   ]
  },
  {
   "cell_type": "code",
   "execution_count": 11,
   "metadata": {},
   "outputs": [
    {
     "name": "stdout",
     "output_type": "stream",
     "text": [
      "[1.e-04 1.e-04 1.e-04 1.e-04]\n",
      "[1.e-04 1.e-04 1.e-04 1.e-04]\n"
     ]
    }
   ],
   "source": [
    "## Calculate velocity ##\n",
    "print(fl1.u[0:4]) # velocity from initialization\n",
    "fl1.u = np.zeros(base_mesh.Nx) # zero out velocity \n",
    "fl1.darcyv(base_mesh,pm1) # use darcyv method\n",
    "print(fl1.u[0:4]) # print to confirm that darcyv did what it was supposed to (got same solution as initialization)"
   ]
  },
  {
   "cell_type": "code",
   "execution_count": 12,
   "metadata": {},
   "outputs": [],
   "source": [
    "# Data/solution object to be plotted #\n",
    "data_sol = type('sol', (object,), {})() # empty object (metaprogramming)"
   ]
  },
  {
   "cell_type": "code",
   "execution_count": 17,
   "metadata": {},
   "outputs": [],
   "source": [
    "# Data at nodes: x p, K, mu\n",
    "data_sol.Np = 3 # p, K, mu\n",
    "data_sol.Nx = base_mesh.Nx\n",
    "data_sol.varnamex = 'x (m)'\n",
    "data_sol.varname = ['p (Pa)', 'K ($m^2$)', '\\u03BC (Pa*s)']\n",
    "data_sol.x = base_mesh.x\n",
    "data_sol.var = np.zeros((data_sol.Nx,data_sol.Np))\n",
    "data_sol.var = np.concatenate((fl1.p.reshape(data_sol.Nx,1)\n",
    "                               ,pm1.K.reshape(data_sol.Nx,1)\n",
    "                               ,fl1.mu.reshape(data_sol.Nx,1))\n",
    "                              ,axis=1)"
   ]
  },
  {
   "cell_type": "code",
   "execution_count": 24,
   "metadata": {},
   "outputs": [
    {
     "data": {
      "image/png": "[encoded data removed]",
      "text/plain": [
       "<Figure size 288x360 with 3 Axes>"
      ]
     },
     "metadata": {
      "needs_background": "light"
     },
     "output_type": "display_data"
    }
   ],
   "source": [
    "plot_out(data_sol) # call the plotting output"
   ]
  },
  {
   "cell_type": "code",
   "execution_count": 15,
   "metadata": {},
   "outputs": [
    {
     "data": {
      "image/png": "[encoded data removed]",
      "text/plain": [
       "<Figure size 432x288 with 1 Axes>"
      ]
     },
     "metadata": {
      "needs_background": "light"
     },
     "output_type": "display_data"
    }
   ],
   "source": [
    "# Face only has one variable right now, so can directly plot\n",
    "fig2, ax2 = plt.subplots()\n",
    "ax2.plot(base_mesh.xc,fl1.u,color='black',linewidth=0.5)\n",
    "ax2.set_xlabel('x (m)',fontsize=12) \n",
    "ax2.set_ylabel('u (m/s)',fontsize=12)\n",
    "plt.xlim(min(base_mesh.xc),max(base_mesh.xc))\n",
    "plt.ylim(min(fl1.u)-1E-6,max(fl1.u)+1E-6)\n",
    "plt.show()"
   ]
  },
  {
   "cell_type": "code",
   "execution_count": null,
   "metadata": {},
   "outputs": [],
   "source": []
  },
  {
   "cell_type": "code",
   "execution_count": null,
   "metadata": {},
   "outputs": [],
   "source": []
  }
 ],
 "metadata": {
  "kernelspec": {
   "display_name": "Python 3",
   "language": "python",
   "name": "python3"
  },
  "language_info": {
   "codemirror_mode": {
    "name": "ipython",
    "version": 3
   },
   "file_extension": ".py",
   "mimetype": "text/x-python",
   "name": "python",
   "nbconvert_exporter": "python",
   "pygments_lexer": "ipython3",
   "version": "3.8.5"
  }
 },
 "nbformat": 4,
 "nbformat_minor": 4
}
