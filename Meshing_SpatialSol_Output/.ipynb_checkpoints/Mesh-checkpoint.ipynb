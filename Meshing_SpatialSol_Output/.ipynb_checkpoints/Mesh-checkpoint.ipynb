{
 "cells": [
  {
   "cell_type": "code",
   "execution_count": 61,
   "metadata": {},
   "outputs": [],
   "source": [
    "# Import packages\n",
    "import csv # Read in case parameters and write out solutions\n",
    "import numpy as np\n",
    "from scipy import sparse"
   ]
  },
  {
   "cell_type": "code",
   "execution_count": 62,
   "metadata": {},
   "outputs": [],
   "source": [
    "class case_param(): \n",
    "    def __init__(self,param): \n",
    "        self.name = param['case_name'] # now the name is given inside the case, not as the case's actual name \n",
    "        self.dim = 1 # dimensions \n",
    "        self.x0 = 0.0 # inlet position \n",
    "        self.xL = self.x0 + float(param['length']) # outlet \n",
    "        self.dx = float(param['dx'])\n",
    "        fluid_name = param['fluid'] \n",
    "        mu = float(param['mu']) \n",
    "        u0 = 0.0 \n",
    "        p0 = float(param['p0']) # inlet pressure \n",
    "        pL = float(param['pL']) # outlet \n",
    "        self.fl = {'Name': fluid_name, 'mu': mu, 'u0': u0, 'p0': p0, 'pL': pL} \n",
    "        pm_name = param['porous_medium']  \n",
    "        K = float(param['K']) \n",
    "        eps = float(param['eps']) \n",
    "        self.pm = {'Name': pm_name, 'K':K, 'eps':eps} \n",
    "        self.fl['u0'] = -K/mu*(pL-p0)/(self.xL-self.x0)"
   ]
  },
  {
   "cell_type": "code",
   "execution_count": 73,
   "metadata": {},
   "outputs": [],
   "source": [
    "class mesh():\n",
    "    def __init__(self,case): # Take in the case info for certain params\n",
    "        dim = 1 # case.dim\n",
    "        if (dim == 1):\n",
    "            self.Nx = int((case.xL - case.x0)/case.dx + 2.0)\n",
    "        \n",
    "            # Face locations\n",
    "            self.xc = np.ones(self.Nx)*case.x0# Initialize mesh\n",
    "            self.xc[self.Nx-1] = case.xL # Outward boundary\n",
    "            for i in range(2,self.Nx-1): \n",
    "                self.xc[i] = (i-1)*case.dx # Cell Face Locations\n",
    "\n",
    "            # Node locations\n",
    "            self.x = self.xc # Initialize mesh\n",
    "            for i in range(0,self.Nx-1):\n",
    "                self.x[i] = (self.xc[i+1] + self.xc[i])/2 # Cell Node Locations: halfway between faces\n",
    "            self.x[self.Nx-1] = self.xc[self.Nx-1] # Outward boundary\n",
    "    \n",
    "    def output(self,fname): # output mesh\n",
    "        with open(fname,'w', newline='') as csvfile:\n",
    "            mesh_write = csv.writer(csvfile,dialect = 'excel', delimiter = '\\t') # writer object\n",
    "            mesh_write.writerow(['i', 'x', 'xc']) # header row\n",
    "            for i in range(0,self.Nx):\n",
    "                mesh_write.writerow([i+1,self.x[i],self.xc[i]]) # actual data rows"
   ]
  },
  {
   "cell_type": "code",
   "execution_count": 76,
   "metadata": {},
   "outputs": [
    {
     "name": "stdout",
     "output_type": "stream",
     "text": [
      "0.0\n",
      "0.02\n"
     ]
    }
   ],
   "source": [
    "with open('casefile.csv',newline='') as casefile: \n",
    "    casereader = csv.DictReader(casefile) \n",
    "    i = 0 \n",
    "    caselist = {} \n",
    "    for row in casereader:    \n",
    "        caselist[i] = row \n",
    "        i += 1         \n",
    "caselist[0]['dx']\n",
    "base = case_param(caselist[0])\n",
    "print(base.x0)\n",
    "print(base.dx)"
   ]
  },
  {
   "cell_type": "code",
   "execution_count": 75,
   "metadata": {},
   "outputs": [],
   "source": [
    "base_mesh = mesh(base)"
   ]
  },
  {
   "cell_type": "code",
   "execution_count": 78,
   "metadata": {},
   "outputs": [
    {
     "name": "stdout",
     "output_type": "stream",
     "text": [
      "0.0\n"
     ]
    }
   ],
   "source": [
    "print(base_mesh.x[0])"
   ]
  },
  {
   "cell_type": "code",
   "execution_count": 79,
   "metadata": {},
   "outputs": [
    {
     "name": "stdout",
     "output_type": "stream",
     "text": [
      "52\n"
     ]
    }
   ],
   "source": [
    "print(base_mesh.Nx)"
   ]
  },
  {
   "cell_type": "code",
   "execution_count": 81,
   "metadata": {},
   "outputs": [
    {
     "name": "stdout",
     "output_type": "stream",
     "text": [
      "1.0\n"
     ]
    }
   ],
   "source": [
    "print(base_mesh.x[51])"
   ]
  },
  {
   "cell_type": "code",
   "execution_count": 82,
   "metadata": {},
   "outputs": [
    {
     "name": "stdout",
     "output_type": "stream",
     "text": [
      "[0.   0.01 0.03 0.05 0.07]\n"
     ]
    }
   ],
   "source": [
    "print(base_mesh.x[0:5])"
   ]
  },
  {
   "cell_type": "code",
   "execution_count": 84,
   "metadata": {},
   "outputs": [],
   "source": [
    "base_mesh.output('base_mesh.csv')"
   ]
  },
  {
   "cell_type": "code",
   "execution_count": null,
   "metadata": {},
   "outputs": [],
   "source": []
  }
 ],
 "metadata": {
  "kernelspec": {
   "display_name": "Python 3",
   "language": "python",
   "name": "python3"
  },
  "language_info": {
   "codemirror_mode": {
    "name": "ipython",
    "version": 3
   },
   "file_extension": ".py",
   "mimetype": "text/x-python",
   "name": "python",
   "nbconvert_exporter": "python",
   "pygments_lexer": "ipython3",
   "version": "3.8.5"
  }
 },
 "nbformat": 4,
 "nbformat_minor": 4
}
