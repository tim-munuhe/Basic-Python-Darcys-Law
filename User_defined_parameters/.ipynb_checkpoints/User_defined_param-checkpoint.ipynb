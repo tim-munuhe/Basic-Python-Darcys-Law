{
 "cells": [
  {
   "cell_type": "code",
   "execution_count": 10,
   "metadata": {},
   "outputs": [
    {
     "name": "stdout",
     "output_type": "stream",
     "text": [
      "base water 0.001\n",
      "long water 0.001\n",
      "press water 0.001\n",
      "powder water 0.001\n",
      "oil oil 0.060\n",
      "Base flow velocity (m/s): 9.999999999999999e-05\n",
      "Oil flow velocity (m/s): 1.6666666666666667e-06\n"
     ]
    }
   ],
   "source": [
    "import csv # for csv.Dictreader so we can input the casefile"
   ]
  },
  {
   "cell_type": "code",
   "execution_count": null,
   "metadata": {},
   "outputs": [],
   "source": [
    "class case_param():  # Case Parameter class\n",
    "    def __init__(self,param): # parameters come from the casefile\n",
    "        self.name = param['case_name'] # now the name is given inside the case, not as the case's actual name \n",
    "        self.dim = 1 # dimensions \n",
    "        self.x0 = 0.0 # inlet position \n",
    "        self.xL = self.x0 + float(param['length']) # outlet \n",
    "        fluid_name = param['fluid'] \n",
    "        mu = float(param['mu']) \n",
    "        u0 = 0.0 \n",
    "        p0 = float(param['p0']) # inlet pressure \n",
    "        pL = float(param['pL']) # outlet \n",
    "        self.fl = {'Name': fluid_name, 'mu': mu, 'u0': u0, 'p0': p0, 'pL': pL} \n",
    "        pm_name = param['porous_medium']  \n",
    "        K = float(param['K']) \n",
    "        eps = float(param['eps']) \n",
    "        self.pm = {'Name': pm_name, 'K':K, 'eps':eps} \n",
    "        self.fl['u0'] = -K/mu*(pL-p0)/(self.xL-self.x0)"
   ]
  },
  {
   "cell_type": "code",
   "execution_count": null,
   "metadata": {},
   "outputs": [],
   "source": [
    "with open('casefile.csv',newline='') as casefile: \n",
    "    casereader = csv.DictReader(casefile) \n",
    "    i = 0 \n",
    "    caselist = {} \n",
    "    for row in casereader:    \n",
    "        caselist[i] = row \n",
    "        print(row['case_name'], row['fluid'], row['mu']) # check that code works as expected \n",
    "        i += 1"
   ]
  },
  {
   "cell_type": "code",
   "execution_count": 13,
   "metadata": {},
   "outputs": [
    {
     "name": "stdout",
     "output_type": "stream",
     "text": [
      "<__main__.case_param object at 0x0000018755C1C760>\n"
     ]
    }
   ],
   "source": [
    "base = case_param(caselist[0]) \n",
    "oil = case_param(caselist[4]) "
   ]
  },
  {
   "cell_type": "code",
   "execution_count": null,
   "metadata": {},
   "outputs": [],
   "source": [
    "print('Base flow velocity (m/s): ' + str(base.fl['u0'])) \n",
    "print('Oil flow velocity (m/s): ' + str(oil.fl['u0'])) "
   ]
  },
  {
   "cell_type": "code",
   "execution_count": null,
   "metadata": {},
   "outputs": [],
   "source": []
  }
 ],
 "metadata": {
  "kernelspec": {
   "display_name": "Python 3",
   "language": "python",
   "name": "python3"
  },
  "language_info": {
   "codemirror_mode": {
    "name": "ipython",
    "version": 3
   },
   "file_extension": ".py",
   "mimetype": "text/x-python",
   "name": "python",
   "nbconvert_exporter": "python",
   "pygments_lexer": "ipython3",
   "version": "3.8.5"
  }
 },
 "nbformat": 4,
 "nbformat_minor": 4
}
